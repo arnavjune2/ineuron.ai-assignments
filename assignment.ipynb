{
  "nbformat": 4,
  "nbformat_minor": 0,
  "metadata": {
    "colab": {
      "name": "assignment.ipynb",
      "provenance": [],
      "authorship_tag": "ABX9TyOFeCAmgrlU5jjjkXX5K2fI",
      "include_colab_link": true
    },
    "kernelspec": {
      "name": "python3",
      "display_name": "Python 3"
    },
    "language_info": {
      "name": "python"
    }
  },
  "cells": [
    {
      "cell_type": "markdown",
      "metadata": {
        "id": "view-in-github",
        "colab_type": "text"
      },
      "source": [
        "<a href=\"https://colab.research.google.com/github/arnavjune2/ineuron.ai-assignments/blob/main/assignment.ipynb\" target=\"_parent\"><img src=\"https://colab.research.google.com/assets/colab-badge.svg\" alt=\"Open In Colab\"/></a>"
      ]
    },
    {
      "cell_type": "code",
      "source": [
        "import os"
      ],
      "metadata": {
        "id": "6WQAzANUq-wc"
      },
      "execution_count": null,
      "outputs": []
    },
    {
      "cell_type": "code",
      "source": [
        "!pwd"
      ],
      "metadata": {
        "id": "jNCZGrQBIaRF",
        "colab": {
          "base_uri": "https://localhost:8080/"
        },
        "outputId": "4b308c67-4f83-4478-9346-3ebd71b1fce1"
      },
      "execution_count": null,
      "outputs": [
        {
          "output_type": "stream",
          "name": "stdout",
          "text": [
            "/content\n"
          ]
        }
      ]
    },
    {
      "cell_type": "code",
      "source": [
        "os.chdir(\"sample_data\")"
      ],
      "metadata": {
        "id": "Cr9IkK3XqsM_"
      },
      "execution_count": null,
      "outputs": []
    },
    {
      "cell_type": "code",
      "source": [
        "os.mkdir(\"assignment\")"
      ],
      "metadata": {
        "id": "G0knqmRfqy6i"
      },
      "execution_count": null,
      "outputs": []
    },
    {
      "cell_type": "code",
      "source": [
        "os.chdir(\"assignment\")"
      ],
      "metadata": {
        "id": "TB1gK41mrNj6"
      },
      "execution_count": null,
      "outputs": []
    },
    {
      "cell_type": "code",
      "source": [
        "!pwd"
      ],
      "metadata": {
        "colab": {
          "base_uri": "https://localhost:8080/"
        },
        "id": "W1BEDX4krUHz",
        "outputId": "f6fd93a2-41f3-4618-88d6-8eebe727630a"
      },
      "execution_count": null,
      "outputs": [
        {
          "output_type": "stream",
          "name": "stdout",
          "text": [
            "/content/sample_data/assignment\n"
          ]
        }
      ]
    },
    {
      "cell_type": "markdown",
      "source": [
        "## Creating example.txt"
      ],
      "metadata": {
        "id": "V0QqUVgEx3rf"
      }
    },
    {
      "cell_type": "code",
      "source": [
        "with open(\"example.txt\", 'w') as f:\n",
        "  f.write(\"This is a placement assignment\")"
      ],
      "metadata": {
        "id": "eXwfcnCiu9dr"
      },
      "execution_count": null,
      "outputs": []
    },
    {
      "cell_type": "code",
      "source": [
        "f.close()"
      ],
      "metadata": {
        "id": "A4UtNQTrv1zx"
      },
      "execution_count": null,
      "outputs": []
    },
    {
      "cell_type": "code",
      "source": [
        "with open(\"example.txt\", 'r') as f:\n",
        "  lines = f.readlines()"
      ],
      "metadata": {
        "id": "dnADOeHMv8Ic"
      },
      "execution_count": null,
      "outputs": []
    },
    {
      "cell_type": "code",
      "source": [
        "for i in lines:\n",
        "  print(i)"
      ],
      "metadata": {
        "colab": {
          "base_uri": "https://localhost:8080/"
        },
        "id": "AcFAgDyIIcxx",
        "outputId": "67867f2b-5900-40ac-c3ac-23ec08d94414"
      },
      "execution_count": null,
      "outputs": [
        {
          "output_type": "stream",
          "name": "stdout",
          "text": [
            "This is a placement assignment\n"
          ]
        }
      ]
    },
    {
      "cell_type": "markdown",
      "source": [
        "##1. Creating a function to read the text file and replace specific content of the file."
      ],
      "metadata": {
        "id": "U1a6C8b2yL3A"
      }
    },
    {
      "cell_type": "code",
      "source": [
        "def word_replacer(file_name= \"example.txt\", replace_word= \"placement\", replacement= \"screening\"):\n",
        "  try:\n",
        "    with open(\"example.txt\", 'r+') as f:\n",
        "      lines = f.readlines()\n",
        "  except Exception as e:\n",
        "    print(e)\n",
        "  \n",
        "  for line in lines:\n",
        "    if replace_word in line:\n",
        "      Replacement = line.replace(replace_word, replacement)\n",
        "    \n",
        "    lines = Replacement\n",
        "  \n",
        "  try:\n",
        "    with open(\"example.txt\", 'w') as f:\n",
        "      # The pre existing text in the file is erased\n",
        "      f.truncate(0)\n",
        "      \n",
        "      # the modified list is written into\n",
        "      # the file thereby replacing the old text\n",
        "      f.writelines(lines)\n",
        "      f.close()\n",
        "      print(\"Text successfully replaced\")\n",
        "  except Exception as e:\n",
        "    print(e)\n",
        "\n",
        "  "
      ],
      "metadata": {
        "id": "WugJ90XGyLeg"
      },
      "execution_count": null,
      "outputs": []
    },
    {
      "cell_type": "code",
      "source": [
        "word_replacer()"
      ],
      "metadata": {
        "colab": {
          "base_uri": "https://localhost:8080/"
        },
        "id": "M59jfjgjw9CL",
        "outputId": "5c2b5266-9db1-49f9-9424-5887d9b8d5cb"
      },
      "execution_count": null,
      "outputs": [
        {
          "output_type": "stream",
          "name": "stdout",
          "text": [
            "Text successfully replaced\n"
          ]
        }
      ]
    },
    {
      "cell_type": "markdown",
      "source": [
        "##2. Demonstrate use of abstract class, multiple inheritance and decorator in python using examples."
      ],
      "metadata": {
        "id": "om0hsvglJI7b"
      }
    },
    {
      "cell_type": "markdown",
      "source": [
        "A decorator takes in a function, adds some functionality and returns it."
      ],
      "metadata": {
        "id": "z-vrRpqhPGYx"
      }
    },
    {
      "cell_type": "code",
      "source": [
        "def smart_divide(func):\n",
        "  def inner(a, b):\n",
        "    print(f\"dividing {a} by {b}\")\n",
        "    if b==0: \n",
        "      print(\"oops, cannot divide by zero\")\n",
        "      return\n",
        "    return func(a,b)\n",
        "  return inner\n",
        "\n",
        "@smart_divide #decorator\n",
        "def divide(a, b):\n",
        "    print(a/b)"
      ],
      "metadata": {
        "id": "NEWF4H5FxmjV"
      },
      "execution_count": null,
      "outputs": []
    },
    {
      "cell_type": "code",
      "source": [
        "print(divide(2,5))\n",
        "print(\"=\"*10)\n",
        "print(divide(2,0))"
      ],
      "metadata": {
        "colab": {
          "base_uri": "https://localhost:8080/"
        },
        "id": "BUMyWu28QpqB",
        "outputId": "7e866b47-daed-4b08-973a-5dd2654fbcff"
      },
      "execution_count": null,
      "outputs": [
        {
          "output_type": "stream",
          "name": "stdout",
          "text": [
            "dividing 2 by 5\n",
            "0.4\n",
            "None\n",
            "==========\n",
            "dividing 2 by 0\n",
            "oops, cannot divide by zero\n",
            "None\n"
          ]
        }
      ]
    },
    {
      "cell_type": "markdown",
      "source": [
        "##multiple inheritance\n",
        "A class can be derived from more than one base class, this is called multiple inheritance.\n",
        "\n",
        "In multiple inheritance, the features of all the base classes are inherited into the derived class."
      ],
      "metadata": {
        "id": "sDqXobk5YIZN"
      }
    },
    {
      "cell_type": "code",
      "source": [
        "class human:\n",
        "  \n",
        "  def __init__(self, weight, height, top_speed ):\n",
        "    self.weight = weight\n",
        "    self.height = height\n",
        "    self.top_speed = top_speed\n",
        "\n",
        "  def who_am_i(self):\n",
        "    print(\"I am a human\")\n",
        "\n",
        "  def time_to_travel(self, distance=10):\n",
        "    time = distance/sef.top_speed\n",
        "\n",
        "class animal:\n",
        "  def __init__(self, weight, height, top_speed ):\n",
        "    self.weight = weight\n",
        "    self.height = height\n",
        "    self.top_speed = top_speed\n",
        "\n",
        "  def BMI(self):\n",
        "    print(f\"bmi is {self.weight/self.height}\")\n",
        "    return self.weight/self.height\n",
        "\n",
        "  def calories_needed(self):\n",
        "    calories_per_day = self.BMI() * 1.35 \n",
        "    print(f\"calories needed per day is {calories_per_day}\")\n",
        "\n",
        "class super_human(animal, human):\n",
        "  \n",
        "  def __init__(self,weight, height, top_speed):\n",
        "    super().__init__(weight=weight, height=height, top_speed=top_speed)\n",
        "\n",
        "  "
      ],
      "metadata": {
        "id": "rVpzsuxeQ5LT"
      },
      "execution_count": 45,
      "outputs": []
    },
    {
      "cell_type": "code",
      "source": [
        "super_man = super_human(weight=120, height=7.8, top_speed=90)"
      ],
      "metadata": {
        "id": "pULsN_pnX3ti"
      },
      "execution_count": 46,
      "outputs": []
    },
    {
      "cell_type": "code",
      "source": [
        "super_man.who_am_i()\n",
        "super_man.calories_needed()"
      ],
      "metadata": {
        "colab": {
          "base_uri": "https://localhost:8080/"
        },
        "id": "ZcxQ3YWdZPu5",
        "outputId": "e167691e-c444-43ae-c1b4-2e932bd54b29"
      },
      "execution_count": 47,
      "outputs": [
        {
          "output_type": "stream",
          "name": "stdout",
          "text": [
            "I am a human\n",
            "bmi is 15.384615384615385\n",
            "calories needed per day is 20.76923076923077\n"
          ]
        }
      ]
    },
    {
      "cell_type": "markdown",
      "source": [
        "##abstract class\n",
        "An abstract class can be considered as a blueprint for other classes. It allows you to create a set of methods that must be created within any child classes built from the abstract class"
      ],
      "metadata": {
        "id": "cVIXaHzD03hb"
      }
    },
    {
      "cell_type": "code",
      "source": [
        "from abc import ABC, abstractmethod\n",
        " \n",
        "class Polygon(ABC):\n",
        " \n",
        "    @abstractmethod\n",
        "    def noofsides(self):\n",
        "        pass\n",
        " \n",
        "class Triangle(Polygon):\n",
        " \n",
        "    # overriding abstract method\n",
        "    def noofsides(self):\n",
        "        print(\"I have 3 sides\")\n",
        " \n",
        "class Pentagon(Polygon):\n",
        " \n",
        "    # overriding abstract method\n",
        "    def noofsides(self):\n",
        "        print(\"I have 5 sides\")\n",
        " \n",
        "class Hexagon(Polygon):\n",
        " \n",
        "    # overriding abstract method\n",
        "    def noofsides(self):\n",
        "        print(\"I have 6 sides\")\n",
        " \n",
        "class Quadrilateral(Polygon):\n",
        " \n",
        "    # overriding abstract method\n",
        "    def noofsides(self):\n",
        "        print(\"I have 4 sides\")"
      ],
      "metadata": {
        "id": "Aet3q9UFZQ5W"
      },
      "execution_count": 49,
      "outputs": []
    },
    {
      "cell_type": "code",
      "source": [
        "R = Triangle()\n",
        "R.noofsides()\n",
        " \n",
        "K = Quadrilateral()\n",
        "K.noofsides()\n",
        " \n",
        "R = Pentagon()\n",
        "R.noofsides()\n",
        " \n",
        "K = Hexagon()\n",
        "K.noofsides()"
      ],
      "metadata": {
        "colab": {
          "base_uri": "https://localhost:8080/"
        },
        "id": "XYfc1yez37He",
        "outputId": "28fe7020-1c16-4f9a-a17e-f0d996bd280b"
      },
      "execution_count": 50,
      "outputs": [
        {
          "output_type": "stream",
          "name": "stdout",
          "text": [
            "I have 3 sides\n",
            "I have 4 sides\n",
            "I have 5 sides\n",
            "I have 6 sides\n"
          ]
        }
      ]
    },
    {
      "cell_type": "code",
      "source": [
        ""
      ],
      "metadata": {
        "id": "j-pr6zDc3_rf"
      },
      "execution_count": null,
      "outputs": []
    }
  ]
}